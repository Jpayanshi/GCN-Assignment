{
  "cells": [
    {
      "cell_type": "markdown",
      "metadata": {
        "id": "view-in-github",
        "colab_type": "text"
      },
      "source": [
        "<a href=\"https://colab.research.google.com/github/Jpayanshi/GCN-Assignment/blob/main/assignment_4b.ipynb\" target=\"_parent\"><img src=\"https://colab.research.google.com/assets/colab-badge.svg\" alt=\"Open In Colab\"/></a>"
      ]
    },
    {
      "cell_type": "markdown",
      "metadata": {
        "id": "aJ_pmgxvGur9"
      },
      "source": [
        "# Assignment 4b - Graph Convolutional Networks\n",
        "## Deep Learning Course - Vrije Universiteit Amsterdam, 2022"
      ]
    },
    {
      "cell_type": "markdown",
      "metadata": {
        "id": "mEneMITS2agU"
      },
      "source": [
        "#### Instructions on how to use this notebook:\n",
        "\n",
        "This notebook is hosted on Google Colab. To be able to work on it, you have to create your own copy. Go to *File* and select *Save a copy in Drive*.\n",
        "\n",
        "You can also avoid using Colab entirely, and download the notebook to run it on your own machine. If you choose this, go to *File* and select *Download .ipynb*.\n",
        "\n",
        "The advantage of using Colab is that you can use a GPU. You can complete this assignment with a CPU, but it will take a bit longer. Furthermore, we encourage you to train using the GPU not only for faster training, but also to get experience with this setting. This includes moving models and tensors to the GPU and back. This experience is very valuable because for many interesting models and large datasets (like large CNNs for ImageNet, or Transformer models trained on Wikipedia), training on GPU is the only feasible way.\n",
        "\n",
        "The default Colab runtime does not have a GPU. To change this, go to *Runtime - Change runtime type*, and select *GPU* as the hardware accelerator. The GPU that you get changes according to what resources are available at the time, and its memory can go from a 5GB, to around 18GB if you are lucky. If you are curious, you can run the following in a code cell to check:\n",
        "\n",
        "```sh\n",
        "!nvidia-smi\n",
        "```\n",
        "\n",
        "Note that despite the name, Google Colab does  not support collaborative work without issues. When two or more people edit the notebook concurrently, only one version will be saved. You can choose to do group programming with one person sharing the screen with the others, or make multiple copies of the notebook to work concurrently.\n",
        "\n",
        "**Submission:** Upload your notebook in .ipynb format to Canvas. The code and answers to the questions in the notebook are sufficient, no separate report is expected. "
      ]
    },
    {
      "cell_type": "code",
      "execution_count": 1,
      "metadata": {
        "colab": {
          "base_uri": "https://localhost:8080/"
        },
        "id": "lBgoJIpdLI2Y",
        "outputId": "3e43f385-faa2-4aac-ed4c-cfa7af879c1f"
      },
      "outputs": [
        {
          "output_type": "stream",
          "name": "stdout",
          "text": [
            "Fri Dec 23 20:37:05 2022       \n",
            "+-----------------------------------------------------------------------------+\n",
            "| NVIDIA-SMI 460.32.03    Driver Version: 460.32.03    CUDA Version: 11.2     |\n",
            "|-------------------------------+----------------------+----------------------+\n",
            "| GPU  Name        Persistence-M| Bus-Id        Disp.A | Volatile Uncorr. ECC |\n",
            "| Fan  Temp  Perf  Pwr:Usage/Cap|         Memory-Usage | GPU-Util  Compute M. |\n",
            "|                               |                      |               MIG M. |\n",
            "|===============================+======================+======================|\n",
            "|   0  Tesla T4            Off  | 00000000:00:04.0 Off |                    0 |\n",
            "| N/A   36C    P0    25W /  70W |      0MiB / 15109MiB |      0%      Default |\n",
            "|                               |                      |                  N/A |\n",
            "+-------------------------------+----------------------+----------------------+\n",
            "                                                                               \n",
            "+-----------------------------------------------------------------------------+\n",
            "| Processes:                                                                  |\n",
            "|  GPU   GI   CI        PID   Type   Process name                  GPU Memory |\n",
            "|        ID   ID                                                   Usage      |\n",
            "|=============================================================================|\n",
            "|  No running processes found                                                 |\n",
            "+-----------------------------------------------------------------------------+\n"
          ]
        }
      ],
      "source": [
        "!nvidia-smi"
      ]
    },
    {
      "cell_type": "markdown",
      "metadata": {
        "id": "tsdc7fDp40rQ"
      },
      "source": [
        "### Introduction\n",
        "\n",
        "Graphs are very useful data structures that allow us to represent sets of entities and the way they are related among each other. In a graph, entities are also known as *nodes*, and any link between entities is also called an *edge*.\n",
        "\n",
        "Examples of real world objects that can be modeled as graphs are social networks, where entities are people and relations denote friendship; and molecules, where entities are atoms and relations indicate a bond between them.\n",
        "\n",
        "There has been increased interest in the recent years in the application of deep learning architectures to graph-structured data, for tasks like predicting missing relations between entities, classifying entities, and classifying graphs. This interest has been spurred by the introduction of Graph Convolutional Networks (GCNs).\n",
        "\n",
        "In this assignment, you will implement and experiment with one of the first versions of the GCN, proposed by Thomas Kipf and Max Welling in their 2017 paper, [Semi-supervised Classification with Graph Convolutional Networks](https://arxiv.org/abs/1609.02907). In particular, the goals of this assignment are to\n",
        "\n",
        "- Understand how GCNs are formulated\n",
        "- Implement the GCN using PyTorch\n",
        "- Train and evaluate a model for semi-supervised node classification in citation networks\n",
        "- Train and evaluate a model for binary classification of molecules"
      ]
    },
    {
      "cell_type": "markdown",
      "metadata": {
        "id": "RvsuVNczG6pP"
      },
      "source": [
        "### Representing graphs\n",
        "\n",
        "Suppose we have the following graph:\n",
        "\n",
        "<img src=\"https://raw.githubusercontent.com/dfdazac/dlvu-a5/main/img/01-graph.png\" width=\"200\">\n",
        "\n",
        "This is an undirected graph (since the edges have no specified direction) with 4 nodes. One way to represent the connectivity structure of the graph is by means of the **adjacency matrix**. The $i$-th row of the matrix contains a 1 in the $j$-th column, if nodes $i$ and $j$ are connected. For an undirected graph like the one above, this means that the adjacency matrix\n",
        "\n",
        "- Is symmetric (e.g. an edge between 0 and 2 is equivalent as an edge between 2 and 0)\n",
        "- Is square, of size $n\\times n$ where $n$ is the number of nodes\n",
        "\n",
        "The adjacency matrix for the graph above is then the following:\n",
        "\n",
        "$$\n",
        "A =\n",
        "\\begin{bmatrix}\n",
        "0 & 0 & 1 & 0 \\\\ \n",
        "0 & 0 & 1 & 0 \\\\\n",
        "1 & 1 & 0 & 1 \\\\\n",
        "0 & 0 & 1 & 0\n",
        "\\end{bmatrix}\n",
        "$$\n",
        "\n",
        "A second matrix of interest is the **degree matrix**. This is a diagonal matrix where the $i$-th element of the diagonal indicates the number of edges connected to node $i$. Note that these can be obtained from $A$ by summing across the columns, or the rows. For our example, the degree matrix is\n",
        "\n",
        "$$\n",
        "D = \\begin{bmatrix}\n",
        "1 & 0 & 0 & 0 \\\\ \n",
        "0 & 1 & 0 & 0 \\\\\n",
        "0 & 0 & 3 & 0 \\\\\n",
        "0 & 0 & 0 & 1\n",
        "\\end{bmatrix}\n",
        "$$\n",
        "\n",
        "For specific applications, each node in the graph will have an associated vector of features $x\\in\\mathbb{R}^c$. If our graph is a social network, then the vector of features can contain information like age, location, and musical tastes, in a specific numeric format. In the case of a molecule, the node could represent an atom and have features like the atomic mass, etc. We can lay out the features in a matrix $X\\in\\mathbb{R}^{n\\times c}$, so that the feature vector for node $i$ is in the $i$-th row."
      ]
    },
    {
      "cell_type": "markdown",
      "metadata": {
        "id": "zCEQ2ffzHCf2"
      },
      "source": [
        "### Loading a citation network\n",
        "\n",
        "To move to a real world example, we will start with the Cora dataset. This dataset represents a citation network, where nodes are scientific publications, edges denote citations between them, and features are a [bag-of-words](https://en.wikipedia.org/wiki/Bag-of-words_model) extracted from their contents.\n",
        "\n",
        "This graph contains labels for nodes, that represent a specific topic. We will use these for a node classification task.\n",
        "\n",
        "To easily load it, we will use [PyTorch Geometric](https://pytorch-geometric.readthedocs.io/en/latest/index.html) (PyG), a deep learning library for graph-structured data.\n"
      ]
    },
    {
      "cell_type": "code",
      "source": [
        "# Install PyTorch Geometric\n",
        "import torch\n",
        "try:\n",
        "  import torch_geometric\n",
        "except ModuleNotFoundError:\n",
        "  # Installing torch geometric packages with specific CUDA+PyTorch version.\n",
        "  # See https://pytorch-geometric.readthedocs.io/en/latest/notes/installation.html for details\n",
        "  TORCH = torch.__version__.split('+')[0]\n",
        "  CUDA = 'cu' + torch.version.cuda.replace('.','')\n",
        "\n",
        "  !pip install torch-scatter     -f https://pytorch-geometric.com/whl/torch-{TORCH}+{CUDA}.html\n",
        "  !pip install torch-sparse      -f https://pytorch-geometric.com/whl/torch-{TORCH}+{CUDA}.html\n",
        "  !pip install torch-geometric\n",
        "  import torch_geometric"
      ],
      "metadata": {
        "id": "-KQLCDMHEQfQ"
      },
      "execution_count": 2,
      "outputs": []
    },
    {
      "cell_type": "markdown",
      "metadata": {
        "id": "V0Nvh_-qEo1q"
      },
      "source": [
        "We can now use the library to download and import the dataset. Initializing the `Planetoid` class returns a `Dataset` object that can contain multiple graphs. In this task we will only use the `Cora` dataset (the citation network) and hence, we will select only the first element."
      ]
    },
    {
      "cell_type": "code",
      "execution_count": 3,
      "metadata": {
        "id": "vuOvwhsHD2YK"
      },
      "outputs": [],
      "source": [
        "from torch_geometric.datasets import Planetoid\n",
        "data = Planetoid(root='data/Planetoid', name='Cora')[0]"
      ]
    },
    {
      "cell_type": "markdown",
      "metadata": {
        "id": "v4WZkoiHFyZm"
      },
      "source": [
        "\n",
        "#### Question 1 (0.25 pt)\n",
        "\n",
        "The `data` object is an instance of the `Data` class in PyG. Check the [documentation](https://pytorch-geometric.readthedocs.io/en/latest/modules/data.html) and report the following properties of the graph:\n",
        "\n",
        "- Number of nodes\n",
        "- Number of edges \n",
        "- The dimension $c$ of the feature vectors $x\\in\\mathbb{R}^c$\n",
        "- The number of targets for the classification task"
      ]
    },
    {
      "cell_type": "code",
      "execution_count": 4,
      "metadata": {
        "id": "sjVuGJhlJC_7",
        "colab": {
          "base_uri": "https://localhost:8080/"
        },
        "outputId": "d2546dcc-0cc5-435d-fa92-1263db174cca"
      },
      "outputs": [
        {
          "output_type": "stream",
          "name": "stdout",
          "text": [
            "2708\n",
            "10556\n",
            "1433\n",
            "7\n"
          ]
        }
      ],
      "source": [
        "# Your answer here\n",
        "n = data.num_nodes\n",
        "e = data.num_edges\n",
        "c = data.num_node_features\n",
        "d = len((torch.unique(data.y)))\n",
        "\n",
        "print(n)\n",
        "print(e)\n",
        "print(c)\n",
        "print(d) #not wokring but im confident this is the ans. we can raise a query on it."
      ]
    },
    {
      "cell_type": "markdown",
      "metadata": {
        "id": "G4DrGDAuJ2YO"
      },
      "source": [
        "#### Question 2 (0.25 pt)\n",
        "\n",
        "In PyG, edges are provided in a tensor of shape (2, number of edges). You can access it via `data.edge_index`. Each column in this tensor contains the IDs for two nodes that are connected in the graph.\n",
        "\n",
        "We saw that in an undirected graph, an edge between nodes $i$ and $j$ adds a value of 1 to positions $(i, j)$ and $(j, i)$ of the adjacency matrix. Is this also true for the edge index? That is, if there is an edge $(i, j)$ in `data.edge_index`, is there also an edge for $(j, i)$? This is important to know for the next steps of the implementation."
      ]
    },
    {
      "cell_type": "code",
      "source": [
        "# Here we will check if when (i,j) is in the edge_index, then (j, i) is also in the edge_index. \n",
        "# Since we already know this is an undirected graph, we will just check this for a single edge.\n",
        "\n",
        "de = data.edge_index\n",
        "i = de[0][0]\n",
        "j = de[1][0] \n",
        "print(i,j) # this is edge (i,j)\n",
        "\n",
        "# Now to check if (j, i) is also an edge\n",
        "k = []\n",
        "for m in range(0 ,10556):\n",
        "  if de[0][m] == j:\n",
        "    k.append(de[1][m])\n",
        "\n",
        "#k here is all nodes such that (j,k) is an edge \n",
        "print(k)\n",
        "\n",
        "print(i in k)\n",
        "# We see that (j,i) is also an edge here if this returns True. "
      ],
      "metadata": {
        "id": "QvVar8ihfD2z",
        "colab": {
          "base_uri": "https://localhost:8080/"
        },
        "outputId": "971d5893-544b-46e9-cf77-18301dab8fe8"
      },
      "execution_count": 6,
      "outputs": [
        {
          "output_type": "stream",
          "name": "stdout",
          "text": [
            "tensor(0) tensor(633)\n",
            "[tensor(0), tensor(1701), tensor(1866)]\n",
            "True\n"
          ]
        }
      ]
    },
    {
      "cell_type": "markdown",
      "metadata": {
        "id": "YOpS3QTYiOqp"
      },
      "source": [
        "#### Question 3 (0.5 pt)\n",
        "\n",
        "In graphs, especially large ones, the adjacency matrix is **sparse**: most entries are zero. Sparse matrices allow for efficient storage and computation.\n",
        "\n",
        "To prepare and pre-process sparse matrices, we will use [`scipy.sparse`](https://docs.scipy.org/doc/scipy/reference/sparse.html). Once the matrices are ready, we will convert them to PyTorch tensors.\n",
        "\n",
        "We will use the [Sparse COO format](https://en.wikipedia.org/wiki/Sparse_matrix#Coordinate_list_(COO)). We encourage you to first get familiar with how it works after continuing with the assignment.\n",
        "\n",
        "- Use the [`scipy.sparse.coo_matrix()`](https://docs.scipy.org/doc/scipy/reference/generated/scipy.sparse.coo_matrix.html) function to build the adjacency matrix. Think of what arguments are needed, and how you can obtain them from the graph data loaded above.\n",
        "- Use the `sum()` method of sparse matrices, together with `scipy.sparse.diags()`, to compute the degree matrix using the definition above.\n",
        "\n",
        "Both resulting matrices must be sparse of type `float32`."
      ]
    },
    {
      "cell_type": "code",
      "execution_count": 5,
      "metadata": {
        "id": "QC01OjbJs92-"
      },
      "outputs": [],
      "source": [
        "from scipy.sparse import coo_matrix\n",
        "import numpy as np\n",
        "import scipy.sparse\n",
        "\n",
        "def adjacency_matrix_fn(data):\n",
        "  # Extract edge list from graph data\n",
        "  edge_list = data.edge_index.numpy().T\n",
        "  # Convert edge list into row and column indices\n",
        "  row = edge_list[:,0]\n",
        "  col = edge_list[:,1]\n",
        "  # Create adjacency matrix\n",
        "  adjacency_matrix = coo_matrix((np.ones(len(row)), (row, col)), shape=(data.num_nodes, data.num_nodes))\n",
        "  return adjacency_matrix\n",
        "\n",
        "\n",
        "\n",
        "def degree_matrix_fn(adjacency_matrix):\n",
        "  adjacency_matrix = adjacency_matrix.toarray()\n",
        "  degree_vector = adjacency_matrix.sum(axis=1).flatten() #.tolist()[0]\n",
        "  return scipy.sparse.diags(degree_vector)#,0\n"
      ]
    },
    {
      "cell_type": "code",
      "source": [
        "adjacency_matrix = adjacency_matrix_fn(data)\n",
        "print(\"adjacency_matrix - \")\n",
        "print(adjacency_matrix.toarray())\n",
        "\n",
        "\n",
        "degree_matrix = degree_matrix_fn(adjacency_matrix)\n",
        "print(\"degree_matrix - \")\n",
        "print(degree_matrix.toarray())"
      ],
      "metadata": {
        "colab": {
          "base_uri": "https://localhost:8080/"
        },
        "id": "DDeXe47m8g-G",
        "outputId": "0a33402b-f072-4ac7-9cbc-4ad1d65c9a65"
      },
      "execution_count": 103,
      "outputs": [
        {
          "output_type": "stream",
          "name": "stdout",
          "text": [
            "adjacency_matrix - \n",
            "[[0. 0. 0. ... 0. 0. 0.]\n",
            " [0. 0. 1. ... 0. 0. 0.]\n",
            " [0. 1. 0. ... 0. 0. 0.]\n",
            " ...\n",
            " [0. 0. 0. ... 0. 0. 0.]\n",
            " [0. 0. 0. ... 0. 0. 1.]\n",
            " [0. 0. 0. ... 0. 1. 0.]]\n",
            "degree_matrix - \n",
            "[[3. 0. 0. ... 0. 0. 0.]\n",
            " [0. 3. 0. ... 0. 0. 0.]\n",
            " [0. 0. 5. ... 0. 0. 0.]\n",
            " ...\n",
            " [0. 0. 0. ... 1. 0. 0.]\n",
            " [0. 0. 0. ... 0. 4. 0.]\n",
            " [0. 0. 0. ... 0. 0. 4.]]\n"
          ]
        }
      ]
    },
    {
      "cell_type": "markdown",
      "metadata": {
        "id": "AIEJyQi2TzyY"
      },
      "source": [
        "You might wonder why we suggest to use a scipy sparse matrix, while also PyTorch supports them. The reason is that in the next step, we will be multiplying two sparse matrices, an operation not supported in PyTorch. PyTorch only allows multiplying a sparse matrix with a dense one, something which we will be doing at a later stage.\n",
        "\n"
      ]
    },
    {
      "cell_type": "markdown",
      "metadata": {
        "id": "YlmzSb0up4LB"
      },
      "source": [
        "### The Graph Convolutional Network\n",
        "\n",
        "The goal of the graph convolution is to take the feature vectors of all nodes $X\\in\\mathbb{R}^{n\\times c}$, and propagate them along the existing edges, to obtain updated representations $Z\\in\\mathbb{R}^{n\\times d}$.\n",
        "\n",
        "\n",
        "The GCN is initially motivated as performing a convolution, similarly as it is done in CNNs for images, for graph-structured data. In Kipf and Welling (2017), a theoretical derivation leads to the following formula:\n",
        "\n",
        "$$\n",
        "Z = \\tilde{D}^{-\\frac{1}{2}}\\tilde{A}\\tilde{D}^{-\\frac{1}{2}}XW\n",
        "$$\n",
        "\n",
        "where\n",
        "\n",
        "- $W\\in\\mathbb{R}^{c\\times d}$ is a matrix of parameters to be learned via gradient descent\n",
        "- $\\tilde{A} = A + I_n$, where $I_n$ is an $n\\times n$ identity matrix\n",
        "- $\\tilde{D}$ is the degree matrix computed with $\\tilde{A}$ as the adjacency matrix\n",
        "\n",
        "If we define $\\hat{A} = \\tilde{D}^{-\\frac{1}{2}}\\tilde{A}\\tilde{D}^{-\\frac{1}{2}}$, the graph convolution can be written as $Z = \\hat{A}XW$."
      ]
    },
    {
      "cell_type": "markdown",
      "metadata": {
        "id": "LL4b-MTvysBp"
      },
      "source": [
        "#### Question 4 (0.25 pt)\n",
        "\n",
        "Given the formula for the GCN, explain why it operates by propagating feature vectors across the graph. To answer this, it might be useful to recall the definitions of the adjacency and degree matrices, and how they are involved in the formula."
      ]
    },
    {
      "cell_type": "markdown",
      "metadata": {
        "id": "Vgx2SkTTyiSN"
      },
      "source": [
        "Each node in the graph here is associated with a feature vector (it is a bag of words in our case), which represents the node's characteristics. These feature vectors are then propagated from one node to its neighbors throughout the graph, allowing the GCN to learn about the relationships between the nodes in the graph. By propagating the feature vectors in this way, the GCN will be able to capture the structure of the graph and use it to make predictions or perform other tasks. X here is the feature vector, where each row corresponds to a node and each column corresponds to a feature. The adjacency matrix A is used to determine which nodes are connected in the graph and the above formula propagates the feature vectors between the nodes.*Your answer here*"
      ]
    },
    {
      "cell_type": "markdown",
      "metadata": {
        "id": "QUGABEqxylsd"
      },
      "source": [
        "#### Question 5 (0.5 pt)\n",
        "\n",
        "Compute the **normalized adjacency matrix** $\\hat{A}$. The result should be a sparse matrix."
      ]
    },
    {
      "cell_type": "code",
      "source": [
        "# Your answer here\n",
        "def weighted_adjacency_matrix(adjacency_matrix,degree_matrix): \n",
        "  adjacency_mat = adjacency_matrix + scipy.sparse.identity(adjacency_matrix.shape[0], format = \"coo\", dtype = np.float32)\n",
        "  degree_mat = degree_matrix + scipy.sparse.identity(n=adjacency_mat.shape[0], dtype = np.float32, format=\"coo\")\n",
        "  normalized_adjacency_matrix = ((degree_mat.power(-0.5)).dot(adjacency_mat)).dot((degree_mat.power(-0.5))).tocoo()\n",
        "  return normalized_adjacency_matrix"
      ],
      "metadata": {
        "id": "m2sG4nQpciBU"
      },
      "execution_count": 6,
      "outputs": []
    },
    {
      "cell_type": "code",
      "execution_count": 104,
      "metadata": {
        "id": "GPZbnSaSyDzO",
        "colab": {
          "base_uri": "https://localhost:8080/"
        },
        "outputId": "5e2b45f8-4a75-472b-f0b0-ac1406e39f80"
      },
      "outputs": [
        {
          "output_type": "stream",
          "name": "stdout",
          "text": [
            "normalized_adjacency_matrix\n",
            "[[0.25       0.         0.         ... 0.         0.         0.        ]\n",
            " [0.         0.25       0.20412415 ... 0.         0.         0.        ]\n",
            " [0.         0.20412415 0.16666667 ... 0.         0.         0.        ]\n",
            " ...\n",
            " [0.         0.         0.         ... 0.5        0.         0.        ]\n",
            " [0.         0.         0.         ... 0.         0.2        0.2       ]\n",
            " [0.         0.         0.         ... 0.         0.2        0.2       ]]\n"
          ]
        }
      ],
      "source": [
        "# Your answer here\n",
        "normalized_adjacency_matrix = weighted_adjacency_matrix(adjacency_matrix, degree_matrix)\n",
        "print(\"normalized_adjacency_matrix\")\n",
        "print(normalized_adjacency_matrix.toarray())"
      ]
    },
    {
      "cell_type": "markdown",
      "metadata": {
        "id": "LLLdGdZoMEy-"
      },
      "source": [
        "#### Question 6 (0.5 pt)\n",
        "\n",
        "So far we have used scipy to build and compute sparse matrices. Since we want to train a GCN with PyTorch, we need to convert $\\hat{A}$ into a sparse PyTorch tensor. You can do this with the [`torch.sparse_coo_tensor()`](https://pytorch.org/docs/stable/generated/torch.sparse_coo_tensor.html) function, making sure to specify `torch.float` as the type."
      ]
    },
    {
      "cell_type": "code",
      "execution_count": null,
      "metadata": {
        "id": "dgDsVHzEM32F",
        "colab": {
          "base_uri": "https://localhost:8080/"
        },
        "outputId": "887c25dd-f83c-4a1d-f9a4-a2b3a5295259"
      },
      "outputs": [
        {
          "output_type": "stream",
          "name": "stderr",
          "text": [
            "<ipython-input-10-302199b89615>:5: UserWarning: Creating a tensor from a list of numpy.ndarrays is extremely slow. Please consider converting the list to a single numpy.ndarray with numpy.array() before converting to a tensor. (Triggered internally at ../torch/csrc/utils/tensor_new.cpp:230.)\n",
            "  tensor_NAM = torch.sparse_coo_tensor((normalized_adjacency_matrix.row, normalized_adjacency_matrix.col), normalized_adjacency_matrix.data, dtype=torch.float)\n"
          ]
        },
        {
          "output_type": "execute_result",
          "data": {
            "text/plain": [
              "tensor(indices=tensor([[   0,    0,    0,  ..., 2707, 2707, 2707],\n",
              "                       [   0,  633, 1862,  ..., 1473, 2706, 2707]]),\n",
              "       values=tensor([0.2500, 0.2500, 0.2236,  ..., 0.2000, 0.2000, 0.2000]),\n",
              "       size=(2708, 2708), nnz=13264, layout=torch.sparse_coo)"
            ]
          },
          "metadata": {},
          "execution_count": 10
        }
      ],
      "source": [
        "# Your answer here\n",
        "# Create the sparse tensor\n",
        "tensor_NAM = torch.sparse_coo_tensor((normalized_adjacency_matrix.row, normalized_adjacency_matrix.col), normalized_adjacency_matrix.data, dtype=torch.float)\n",
        "tensor_NAM"
      ]
    },
    {
      "cell_type": "markdown",
      "metadata": {
        "id": "eAlRVT5aODkX"
      },
      "source": [
        "#### Question 7 (0.5 pt)\n",
        "\n",
        "We now have all the ingredients to build a GCN layer. Implement a class (inheriting from `torch.nn.Module`) with a learnable matrix of weights $W\\in\\mathbb{R}^{c\\times d}$. Make sure to\n",
        "\n",
        "- Call this class `GCNLayer`\n",
        "- The `__init__()` constructor should take as argument the number of input and output features.\n",
        "- Use `torch.nn.init.kaiming_uniform_` to initialize $W$.\n",
        "- Define the `forward` method, which takes as input $X$ and $\\hat{A}$ and returns $Z$. Note that multiplications involving the sparse matrix $\\hat{A}$ have to be done with `torch.spmm`. \n",
        "\n",
        "Once you have implemented the class, instantiate a layer with the correct number of input features for the Cora dataset, and a number of output features of your choice. Do a forward pass and report the shape of the output tensor."
      ]
    },
    {
      "cell_type": "code",
      "execution_count": 7,
      "metadata": {
        "id": "JFCohhhwPpTT"
      },
      "outputs": [],
      "source": [
        "# Your answer here\n",
        "import torch\n",
        "import torch.nn as nn\n",
        "import math\n",
        "\n",
        "class GCNLayer(nn.Module):\n",
        "    def __init__(self, in_features, out_features):\n",
        "        super(GCNLayer, self).__init__()\n",
        "        self.in_features = in_features\n",
        "        self.out_features = out_features\n",
        "        self.weights = nn.Parameter(torch.Tensor(in_features, out_features))\n",
        "        nn.init.kaiming_uniform_(self.weights, a=math.sqrt(5))\n",
        "\n",
        "    def forward(self, X, A):\n",
        "        Z = torch.spmm(A, X) @ self.weights\n",
        "        return Z\n"
      ]
    },
    {
      "cell_type": "code",
      "source": [
        "# Number of input features for Cora dataset\n",
        "number_of_node = n\n",
        "\n",
        "in_features = c\n",
        "\n",
        "# Number of output features\n",
        "out_features = d #num_classes \n",
        "\n",
        "# Create GCN layer\n",
        "gcn_layer = GCNLayer(in_features, out_features)\n",
        "\n",
        "# Do a forward pass\n",
        "X = data.x\n",
        "\n",
        "output = gcn_layer(X, tensor_NAM)\n",
        "\n",
        "# Print shape of output tensor\n",
        "print(output.shape)"
      ],
      "metadata": {
        "colab": {
          "base_uri": "https://localhost:8080/"
        },
        "id": "cNzLgV1ZRsuF",
        "outputId": "12e82494-f024-4fb6-a9b0-1be1fbc5e75a"
      },
      "execution_count": null,
      "outputs": [
        {
          "output_type": "stream",
          "name": "stdout",
          "text": [
            "torch.Size([2708, 7])\n"
          ]
        }
      ]
    },
    {
      "cell_type": "markdown",
      "metadata": {
        "id": "1ptAiizZUKaM"
      },
      "source": [
        "#### Question 8 (0.5 pt)\n",
        "\n",
        "As we have seen so far, the GCN layer implements a special type of linear transformation of the inputs. However, it is often beneficial in deep learning to stack multiple, non-linear transformations of the input features. Implement a second module class for a model with two GCN layers (use the module you implemented in the previous question).\n",
        "\n",
        "- Call this class `GCN`\n",
        "- The constructor must now take as input the number of input features, the output dimension of the first layer (this is the hidden layer), and the output dimension of the output layer.\n",
        "- In the forward pass, add a ReLU activation function after the first layer."
      ]
    },
    {
      "cell_type": "code",
      "source": [
        "import torch\n",
        "import torch.nn as nn\n",
        "\n",
        "class GCN(nn.Module):\n",
        "    def __init__(self, in_features, hidden_dim, out_dim):\n",
        "        super(GCN, self).__init__()\n",
        "        self.layer1 = GCNLayer(in_features, hidden_dim)\n",
        "        self.relu = nn.ReLU()\n",
        "        self.layer2 = GCNLayer(hidden_dim, out_dim)\n",
        "\n",
        "    def forward(self, x, A):\n",
        "        x = self.layer1(x, A)\n",
        "        x = self.relu(x)\n",
        "        x = self.layer2(x, A)\n",
        "        return x\n"
      ],
      "metadata": {
        "id": "lqvNIs6FWA8p"
      },
      "execution_count": 8,
      "outputs": []
    },
    {
      "cell_type": "code",
      "source": [
        "# Number of input features for Cora dataset\n",
        "number_of_node = n\n",
        "\n",
        "in_features = c\n",
        "\n",
        "# Number of output features\n",
        "out_features = d #16 #num_classes\n",
        "\n",
        "# Create GCN\n",
        "gcn = GCN(in_features, 32, out_features)\n",
        "\n",
        "# Do a forward pass\n",
        "X = data.x \n",
        "\n",
        "output = gcn(X, tensor_NAM)\n",
        "\n",
        "# Print shape of output tensor\n",
        "print(output.shape)"
      ],
      "metadata": {
        "colab": {
          "base_uri": "https://localhost:8080/"
        },
        "id": "gMlBEUUpXahz",
        "outputId": "cacf6ca6-ba7a-4c90-e71c-db2985a97025"
      },
      "execution_count": null,
      "outputs": [
        {
          "output_type": "stream",
          "name": "stdout",
          "text": [
            "torch.Size([2708, 7])\n"
          ]
        }
      ]
    },
    {
      "cell_type": "markdown",
      "metadata": {
        "id": "6NVB-3I5Wfkf"
      },
      "source": [
        "### GCNs for semi-supervised node classification\n",
        "\n",
        "Now that we have a GCN with two layers, we can test its performance in a node classification task. We will pass the input node features $X$ through the GCN layers, and the output will be of size $n\\times k$ where $k$ is the number of classes (which you found in question 1). The label denotes the topic an article in the citation network belongs to (e.g. physics, computer science, etc.)."
      ]
    },
    {
      "cell_type": "markdown",
      "metadata": {
        "id": "trc4dSa7cuQj"
      },
      "source": [
        "#### Question 9 (1.5 pt)\n",
        "\n",
        "Note that the `data` object contains all labels (for all splits) in `data.y`, and binary masks for the train, validation, and test splits in `data.train_mask`, `data.val_mask`, and `data.test_mask`, respectively. These masks are the same size as `data.y`, and indicate which labels belong to which split.\n",
        "\n",
        "- Create a GCN with two layers (using the class from the previous question), with 32 as the hidden dimension, and the number of output features equal to the number of classes in the Cora dataset.\n",
        "\n",
        "- Use the Adam optimizer with a learning rate of 0.01.\n",
        "\n",
        "- Implement a training loop for the GCN. At each step, pass $X$ and $\\hat{A}$ to the GCN to obtain the logits. Compute the mean cross-entropy loss **only for the training instances**, using the binary masks.\n",
        "\n",
        "- After each training step, evaluate the accuracy for the validation instances.\n",
        "\n",
        "- Train for 100 epochs. Once training is finished, plot the training loss and validation accuracy (in a graph in function of the epoch number), and report the accuracy in the test set.\n",
        "\n",
        "You should obtain an accuracy over 75% on both the validation and test sets. You can also compare your results with the original paper, which also contains results for the Cora dataset. Give a brief discussion on the results of your experiments.\n",
        "\n",
        "Note that in contrast with other tasks, like image classification on some datasets, we don't use mini-batches here. The whole matrix of features and the adjacency is passed to the GCN in one step."
      ]
    },
    {
      "cell_type": "code",
      "execution_count": null,
      "metadata": {
        "id": "5Z2OP_ZRWlmo",
        "colab": {
          "base_uri": "https://localhost:8080/",
          "height": 300
        },
        "outputId": "4117bc7f-0b69-4166-fc3c-6220a1916456"
      },
      "outputs": [
        {
          "output_type": "display_data",
          "data": {
            "text/plain": [
              "<Figure size 432x288 with 1 Axes>"
            ],
            "image/png": "[encoded data removed]"
          },
          "metadata": {
            "needs_background": "light"
          }
        },
        {
          "output_type": "stream",
          "name": "stdout",
          "text": [
            "Val accuracy: 0.78\n",
            "Test accuracy: 0.78\n"
          ]
        }
      ],
      "source": [
        "# Your answer here\n",
        "import torch.optim as optim\n",
        "import matplotlib.pyplot as plt\n",
        "\n",
        "# Instantiate the GCN model\n",
        "model = GCN(in_features, 32, out_features)\n",
        "\n",
        "# Use the Adam optimizer with a learning rate of 0.01\n",
        "optimizer = optim.Adam(model.parameters(), lr=0.01)\n",
        "\n",
        "# Use cross-entropy loss\n",
        "loss_fn = nn.CrossEntropyLoss()\n",
        "\n",
        "# Training loop\n",
        "num_epochs = 100\n",
        "train_losses, val_accuracies = [], []\n",
        "for epoch in range(num_epochs):\n",
        "    # Pass the input features and adjacency matrix to the model\n",
        "    logits = model(data.x, tensor_NAM)\n",
        "\n",
        "    # Compute the cross-entropy loss for the training instances\n",
        "    loss = loss_fn(logits[data.train_mask], data.y[data.train_mask])\n",
        "    train_losses.append(loss.item())\n",
        "\n",
        "    # Zero the gradients\n",
        "    optimizer.zero_grad()\n",
        "\n",
        "    # Backpropagate the loss and compute the gradients\n",
        "    loss.backward()\n",
        "\n",
        "    # Update the model weights\n",
        "    optimizer.step()\n",
        "\n",
        "    # Evaluate the model's accuracy on the validation instances\n",
        "    val_acc = (logits[data.val_mask].argmax(dim=-1) == data.y[data.val_mask]).float().mean()\n",
        "    val_accuracies.append(val_acc.item())\n",
        "\n",
        "# Plot the training loss and validation accuracy\n",
        "plt.plot(train_losses, label='train loss')\n",
        "plt.plot(val_accuracies, label='val accuracy')\n",
        "plt.legend()\n",
        "plt.show()\n",
        "\n",
        "# Evaluate the model's accuracy on the test set\n",
        "test_acc = (logits[data.test_mask].argmax(dim=-1) == data.y[data.test_mask]).float().mean()\n",
        "print(f'Val accuracy: {val_acc:.2f}')\n",
        "print(f'Test accuracy: {test_acc:.2f}')\n"
      ]
    },
    {
      "cell_type": "markdown",
      "source": [
        "Training the GCN for 100 epochs we got a Validation accuracy of 77% and Test Accuracy of 79%. The original paper reported a classification accuracy of 81.5 on the Cora Dataset"
      ],
      "metadata": {
        "id": "hPTjwnAs3XZ-"
      }
    },
    {
      "cell_type": "markdown",
      "metadata": {
        "id": "vb5YjHVClCqo"
      },
      "source": [
        "#### Question 10 (0.5 pt)\n",
        "\n",
        "The paper introduces GCNs as a way to solve a *semi-supervised* classification problem.\n",
        "\n",
        "- What makes this problem semi-supervised?\n",
        "- What is the proportion of labeled data used for training with respect to labeled data in the validation and test sets? What is difference in this context with other benchmark tasks in machine learning, like image classification with MNIST?\n",
        "- Why do you think the GCN performs well in this semi-supervised scenario?"
      ]
    },
    {
      "cell_type": "code",
      "execution_count": 31,
      "metadata": {
        "id": "7qw58r1MmCUJ",
        "colab": {
          "base_uri": "https://localhost:8080/"
        },
        "outputId": "2e1a5987-618d-4b94-f301-25e73f43be25"
      },
      "outputs": [
        {
          "output_type": "stream",
          "name": "stdout",
          "text": [
            "140\n",
            "2568\n"
          ]
        }
      ],
      "source": [
        "# Your answer here\n",
        "trainmask = data.train_mask\n",
        "l = 0\n",
        "u = 0\n",
        "for i in range(0, len(trainmask)):\n",
        "  if trainmask[i] == True:\n",
        "    l += 1\n",
        "  else:\n",
        "    u += 1\n",
        "print(l) #labeled\n",
        "print(u) #unlabeled"
      ]
    },
    {
      "cell_type": "markdown",
      "source": [
        "\n",
        "*  A semi-supervised classification problem is one in which (unlike supervised classification) only a portion of the data is labeled, while the rest is unlabeled. In our data, the nodes of the graphs have labels. So, we use part of the dataset with labels (labeled data) whereas the rest unlabeled during training and our task becomes a semi-supervised classification task.\n",
        "\n",
        "*  The proportion of labeled data used for semi-supervised training is usually very low. In our case, the number of labeled nodes used during training was 140 out of a total of 2708 nodes. For the validation set, it was a total of 500 labeled nodes out of 2708 and for test set, it was 1000. But other benchmark tasks like image classification on MNIST dataset all the data used for training, validation and testing are labeled with separate validation and test sets which are smaller than the train data.\n",
        "\n",
        "\n",
        "*   Graph Convolutional Networks (GCNs) are specifically designed for processing data on graphs. They are particularly well-suited to semi-supervised learning tasks, as they are designed to be able to exploit the structure of the data and make use of both labeled and unlabeled examples. They learn to classify nodes in a graph by aggregating information from the neighbor nodes and using this information to make predictions. This allows GCNs to make use of the rich information present in the graph structure, even when only a small fraction of the nodes are labeled."
      ],
      "metadata": {
        "id": "X8RyM5Xb3CMI"
      }
    },
    {
      "cell_type": "markdown",
      "metadata": {
        "id": "4ihrjZddvz5d"
      },
      "source": [
        "### Loading a dataset of proteins\n",
        "\n",
        "In the previous sections you learned how to pass the adjacency matrix of a graph with a couple of thousand of nodes, to classify each node with a particular label. A different and useful application of GCNs is graph classification.\n",
        "\n",
        "In contrast with the previous part, where there was a single, big graph, in graph classification we have multiple graphs, and each graph can be assigned a label. In this part of the assignment you will implement a classifier for proteins.\n",
        "\n",
        "[Proteins](https://en.wikipedia.org/wiki/Protein_(nutrient)) are parts of the buildings block of life. They consist of chains of amino acids, and can take many shapes. In the PROTEINS dataset, proteins are represented as graphs, where the nodes are amino acids, and an edge between them indicates that they are 6 [Angstroms](https://en.wikipedia.org/wiki/Angstrom) apart. All graphs have a binary label, where 1 means that the protein is not an enzyme.\n",
        "\n",
        "We will start by loading and examining this dataset."
      ]
    },
    {
      "cell_type": "code",
      "execution_count": 9,
      "metadata": {
        "id": "xmqweMcvnUH6"
      },
      "outputs": [],
      "source": [
        "from torch_geometric.datasets import TUDataset\n",
        "dataset = TUDataset(root='data/TU', name='PROTEINS', use_node_attr=True)"
      ]
    },
    {
      "cell_type": "markdown",
      "metadata": {
        "id": "_oF1gyKPXiz-"
      },
      "source": [
        "#### Question 11 (0.25 pt)\n",
        "\n",
        "Unlike in the previous part, where we selected the first element returned by the loading function, note that here we get all the elements returned by `TUDataset()`. `dataset` is an interable object, that has some similar behaviors as a Python list: you can call `len()` on it, and you can takes slices from it.\n",
        "\n",
        "Each element in `dataset` is a `Data` object containing a graph that represents a protein. This is the same type of object that we used in the previous part to store the Cora citation network.\n",
        "\n",
        "Knowing this, answer the following:\n",
        "\n",
        "- How many proteins (graphs) are there in `dataset`?\n",
        "- Take any protein from `dataset`. How many nodes and edges does it contain? What is its label? How many features does each node have?"
      ]
    },
    {
      "cell_type": "code",
      "execution_count": 10,
      "metadata": {
        "id": "ZNPsnXXbbHHe",
        "colab": {
          "base_uri": "https://localhost:8080/"
        },
        "outputId": "268b0115-c2b5-4abd-8d27-aac0d377ee90"
      },
      "outputs": [
        {
          "output_type": "stream",
          "name": "stdout",
          "text": [
            "1113\n",
            "42\n",
            "162\n",
            "4\n",
            "1\n"
          ]
        }
      ],
      "source": [
        "# Your answer here\n",
        "print(len(dataset))\n",
        "n_p = dataset[0].num_nodes\n",
        "e_p = dataset[0].num_edges\n",
        "c_p = dataset[0].num_node_features\n",
        "d_p = len((torch.unique(dataset[0].y)))\n",
        "print(n_p)\n",
        "print(e_p)\n",
        "print(c_p)\n",
        "print(d_p)"
      ]
    },
    {
      "cell_type": "markdown",
      "metadata": {
        "id": "kHSklBZXpKpR"
      },
      "source": [
        "#### Question 12 (0.5 pt)\n",
        "\n",
        "To properly train and evaluate our model, we need training, validation, and test splits.\n",
        "\n",
        "For reproducibility purposes, we generate a random tensor of indices for you. Use it to extract the three splits from `dataset`.\n",
        "\n",
        "For training, take 80% of the indices (starting from the first element in `indices`), then the following 10% for validation, and the remaining 10% for testing. You can use the indices to index `dataset`.\n",
        "\n",
        "Call the resulting splits `train_dataset`, `valid_dataset`, and `test_dataset`."
      ]
    },
    {
      "cell_type": "code",
      "execution_count": 11,
      "metadata": {
        "id": "ttY4d1GInn08"
      },
      "outputs": [],
      "source": [
        "# Don't erase the following three lines\n",
        "import torch\n",
        "torch.random.manual_seed(0)\n",
        "indices = torch.randperm(len(dataset))"
      ]
    },
    {
      "cell_type": "code",
      "source": [
        "# Your answer here\n",
        "# Convert tensor of indices to a list\n",
        "indices = indices.tolist()\n",
        "\n",
        "# Calculate number of indices for each split\n",
        "num_total_indices = len(indices)\n",
        "num_training_indices = int(0.8 * num_total_indices)\n",
        "num_validation_indices = int(0.1 * num_total_indices)\n",
        "num_test_indices = num_total_indices - num_training_indices - num_validation_indices\n",
        "\n",
        "# Extract indices for each split\n",
        "training_indices = indices[:num_training_indices]\n",
        "validation_indices = indices[num_training_indices:num_training_indices+num_validation_indices]\n",
        "test_indices = indices[-num_test_indices:]\n",
        "\n",
        "# Create splits using extracted indices\n",
        "train_dataset = [dataset[i] for i in training_indices]\n",
        "valid_dataset = [dataset[i] for i in validation_indices]\n",
        "test_dataset = [dataset[i] for i in test_indices]\n"
      ],
      "metadata": {
        "id": "fk4Zt8CVfmAr"
      },
      "execution_count": 12,
      "outputs": []
    },
    {
      "cell_type": "code",
      "source": [
        "print(len(indices),len(train_dataset),len(valid_dataset),len(test_dataset))"
      ],
      "metadata": {
        "colab": {
          "base_uri": "https://localhost:8080/"
        },
        "id": "6JyQVVeFgGq2",
        "outputId": "6e8dc7c0-1b3f-45db-cc37-c0244eb9ecb5"
      },
      "execution_count": 13,
      "outputs": [
        {
          "output_type": "stream",
          "name": "stdout",
          "text": [
            "1113 890 111 112\n"
          ]
        }
      ]
    },
    {
      "cell_type": "markdown",
      "metadata": {
        "id": "rDJbB4CQqsfp"
      },
      "source": [
        "### Working with a batch of graphs\n",
        "\n",
        "When working with the Cora dataset, you used the information in `data.edge_index` to build the sparse normalized adjacency matrix $\\hat{A}$ that is required by the GCN. We could do something similar here: for each graph, we build $\\hat{A}$, and pass it to the GCN. However, if the number of graphs is big, this can really slow down training.\n",
        "\n",
        "To avoid this, we will resort to a very useful trick that also allows us to reuse the same GCN you implemented previously. The trick makes it possible to do a forward pass through the GCN for multiple, disconnected graphs at the same time (instead of only one), much like when you train with mini-batches for other kinds of data.\n",
        "\n",
        "Let's first revisit the propagation rule of the GCN, $Z = \\hat{A}XW$, with an illustration (we have omitted the cells of $X$ and $W$ for clarity):\n",
        "\n",
        "<img src=\"https://raw.githubusercontent.com/dfdazac/dlvu-a5/main/img/02-gcn-forward.png\">\n",
        "\n",
        "If we have multiple graphs, we can still use the same propagation rule, if we\n",
        "\n",
        "- Set $\\hat{A}$ to be a block diagonal matrix, where the blocks are the different adjacency matrices of the graphs\n",
        "- Concatenate the feature matrices along the first dimension\n",
        "\n",
        "This is illustrated in the following figure, for a batch of 3 graphs. Note that the elements outside of the blocks are zero.\n",
        "\n",
        "<img src=\"https://raw.githubusercontent.com/dfdazac/dlvu-a5/main/img/02-gcn-batch-forward.png\">\n",
        "\n",
        "The resulting adjacency matrix $\\hat{A}_B$ can also be built as a sparse matrix, and once we have it together with the concatenated matrix of features, the computation of the graph convolution is exactly the same as before. Note how this trick also allows us to process graphs with different sizes and structures.\n"
      ]
    },
    {
      "cell_type": "markdown",
      "metadata": {
        "id": "0DLPJ62b2mQ6"
      },
      "source": [
        "#### Question 13 (0.5 pt)\n",
        "\n",
        "\n",
        "Just as the citation network, the graphs in each of the datasets you created in Question 12 also have an `edge_index` attribute, which can be used to compute the normalized adjacency matrix $\\hat{A}$, for each graph.\n",
        "\n",
        "Reusing your code for Questions 3 and 5, define a function `get_a_norm()` that takes as input an element of a dataset (e.g. `train_dataset[0]`), and returns a `scipy.sparse` matrix containing $\\hat{A}$.\n",
        "\n",
        "Note that an element of a dataset has properties like `num_edges`, `num_nodes`, etc. which you can use here."
      ]
    },
    {
      "cell_type": "code",
      "execution_count": 14,
      "metadata": {
        "id": "4nvPX2GB8oXp",
        "colab": {
          "base_uri": "https://localhost:8080/"
        },
        "outputId": "c3ca90cd-0d03-454a-b641-9f7ce9491b8f"
      },
      "outputs": [
        {
          "output_type": "execute_result",
          "data": {
            "text/plain": [
              "<31x31 sparse matrix of type '<class 'numpy.float64'>'\n",
              "\twith 153 stored elements in COOrdinate format>"
            ]
          },
          "metadata": {},
          "execution_count": 14
        }
      ],
      "source": [
        "def get_a_norm(data):\n",
        "    adjacency_matrix = adjacency_matrix_fn(data)\n",
        "    degree_matrix = degree_matrix_fn(adjacency_matrix)\n",
        "    normalized_adjacency_matrix = weighted_adjacency_matrix(adjacency_matrix, degree_matrix)\n",
        "    return(normalized_adjacency_matrix)\n",
        "\n",
        "normalized_am_train = get_a_norm(train_dataset[0])\n",
        "normalized_am_train"
      ]
    },
    {
      "cell_type": "markdown",
      "metadata": {
        "id": "cBrmYBY3AfhW"
      },
      "source": [
        "#### Question 14 (1 pt)\n",
        "\n",
        "To prepare the batch of graphs, we need to collect multiple adjacency matrices, feature matrices, and labels.\n",
        "\n",
        "When using the trick described in the last figure, we see that we have to keep track of when a graph starts and when it ends, so that we can later differentiate the outputs due to $X^{(0)}$, $X^{(1)}$, etc. To achieve this, we will additionally collect a 1D array of batch indices, one for each $X^{(i)}$.\n",
        "\n",
        "The 1D array has as many elements as rows in $X^{(i)}$, and it is filled with the value $i$ (the position of $X^{(i)}$ in the batch):\n",
        "\n",
        "<img src=\"https://raw.githubusercontent.com/dfdazac/dlvu-a5/main/img/03-batch-indices.png\">\n",
        "\n",
        "We will later concatenate all the 1D arrays along the first dimension, just as we will do with all the $X^{(i)}$.\n",
        "\n",
        "Define a function `prepare_graphs_batch()` that takes as input a dataset (e.g. `train_dataset`), and does the following\n",
        "\n",
        "- Create four empty lists:\n",
        "  - `adj_matrices`\n",
        "  - `feature_matrices`\n",
        "  - `batch_indices`\n",
        "  - `labels`\n",
        "- Iterate over the input dataset, getting one graph at a time. At each step, use your function from Question 13 to append the adjacency matrix to `adj_matrices`, append the matrix of input features to `feature_matrices`, create the array of batch indices (as explained above) and append it to `batch_indices`, and append the label of the graph to `labels`. **Make sure to convert the label to float**.\n",
        "- Once the loop is over, use `scipy.sparse.block_diag()` to build the block diagonal matrix $\\hat{A}_B$. Convert it to the COO format, and then use your answer to Question 6 to turn it into a sparse PyTorch tensor.\n",
        "- Use `torch.cat()` to concatenate the tensors in `feature_matrices` along the first dimension. Do this also for `batch_indices` and `labels`.\n",
        "- Return the 4 tensors computed in the previous two items."
      ]
    },
    {
      "cell_type": "code",
      "source": [
        "# Your answer here\n",
        "\n",
        "def prepare_graphs_batch(data):\n",
        "  adj_matrices = []\n",
        "  feature_matrices = []\n",
        "  batch_indices = []\n",
        "  labels = []\n",
        "  for i, graph in enumerate(dataset):\n",
        "    a_norm = get_a_norm(graph)\n",
        "    adj_matrices.append(a_norm) \n",
        "\n",
        "    features = graph.x\n",
        "    feature_matrices.append(features)\n",
        "\n",
        "    indices = torch.full((features.shape[0],), i, dtype=torch.int64)\n",
        "    # Append the indices to the batch_indices list\n",
        "    batch_indices.append(indices)\n",
        "\n",
        "    label = float(graph.y)\n",
        "    labels.append(label)\n",
        "\n",
        "\n",
        "  a_norm_batch = scipy.sparse.block_diag(adj_matrices).tocoo()\n",
        "  a_norm_batch = torch.sparse_coo_tensor((a_norm_batch.row, a_norm_batch.col), a_norm_batch.data, dtype=torch.float)\n",
        "\n",
        "  features_batch = torch.cat(feature_matrices, dim=0)\n",
        "  batch_indices_batch = torch.cat(batch_indices, dim=0)\n",
        "  labels_batch = torch.tensor(labels)\n",
        "  \n",
        "  return a_norm_batch, features_batch, batch_indices_batch, labels_batch\n"
      ],
      "metadata": {
        "id": "RsiJiKD1HeD_"
      },
      "execution_count": 15,
      "outputs": []
    },
    {
      "cell_type": "markdown",
      "metadata": {
        "id": "i73P_EU0MSPX"
      },
      "source": [
        "Once your answer for the previous question is ready, you can run the next cell to prepare all the required information, for the train, validation, and test splits."
      ]
    },
    {
      "cell_type": "code",
      "execution_count": 16,
      "metadata": {
        "id": "Iol5FxJGMmAU",
        "colab": {
          "base_uri": "https://localhost:8080/"
        },
        "outputId": "249bdb4f-af25-4b9d-ea74-be85cfda8c6d"
      },
      "outputs": [
        {
          "output_type": "stream",
          "name": "stderr",
          "text": [
            "<ipython-input-15-faeda4a6693a>:24: UserWarning: Creating a tensor from a list of numpy.ndarrays is extremely slow. Please consider converting the list to a single numpy.ndarray with numpy.array() before converting to a tensor. (Triggered internally at ../torch/csrc/utils/tensor_new.cpp:230.)\n",
            "  a_norm_batch = torch.sparse_coo_tensor((a_norm_batch.row, a_norm_batch.col), a_norm_batch.data, dtype=torch.float)\n"
          ]
        }
      ],
      "source": [
        "train_a_norm, train_features, train_batch_idx, train_labels = prepare_graphs_batch(train_dataset)\n",
        "valid_a_norm, valid_features, valid_batch_idx, valid_labels = prepare_graphs_batch(valid_dataset)\n",
        "test_a_norm, test_features, test_batch_idx, test_labels = prepare_graphs_batch(test_dataset)"
      ]
    },
    {
      "cell_type": "markdown",
      "metadata": {
        "id": "R6q-JU87NClh"
      },
      "source": [
        "### GCNs for graph classification\n",
        "\n",
        "We now have all the ingredients to pass a batch of graphs to a GCN. However, for each graph in the batch, the output $Z^{(i)}$ contains one row for each node in the graph. If the goal is to do classification at the graph level, we have to *pool* these vectors to then compute the required logits for classification.\n",
        "\n",
        "This operation is similar as how pooling works in a CNN. We could consider taking the mean of the vectors, the sum, or use max-pooling. The difference with respect to CNNs is that in our case, we have a batch of graphs, each potentially with a different number of nodes.\n",
        "\n",
        "To implement this specific pooling, we can use the scatter operation in the `torch_scatter` library, which comes when installing PyG. We will use it, together with the tensor of batch indices from the previous two questions, to pool the outputs of the GCN for each graph, into a single vector:\n",
        "\n",
        "<img src=\"https://raw.githubusercontent.com/dfdazac/dlvu-a5/main/img/04-scatter.png\">\n",
        "\n",
        "You can check more details in the [documentation](https://pytorch-scatter.readthedocs.io/en/latest/functions/scatter.html)."
      ]
    },
    {
      "cell_type": "markdown",
      "metadata": {
        "id": "QY87DX1uRhnY"
      },
      "source": [
        "#### Question 15 (1.0 pt)\n",
        "\n",
        "Implement a `GraphClassifier` module using PyTorch.\n",
        "\n",
        "- The constructor should take as arguments the number of input features, the hidden dimension, and the number of classes.\n",
        "- The model should contain a instance of the `GCN` module (as you implemented it in Question 8). Use the same value for the hidden dimension and the number of output features (recall that your `GCN` module from Question 8 has two GCN layers).\n",
        "- The model should also contain a `torch.nn.Linear` layer, with the hidden dimension as the input features, and the number of classes as the output.\n",
        "- The forward method receives the concatenated matrix of features, the sparse block diagonal adjacency matrix, and the batch indices (the latter is used when calling `scatter`).\n",
        "- Use the following architecture in the forward pass:\n",
        "  - GCN $\\to$ ReLU $\\to$ scatter (max) $\\to$ Linear.\n",
        "\n",
        "The output of the forward should be a 1D tensor (you might need to call `squeeze` to get rid of extra dimensions) containing the logits for all graphs in the batch, for the binary classification task."
      ]
    },
    {
      "cell_type": "code",
      "execution_count": 17,
      "metadata": {
        "id": "750WraywwYDH"
      },
      "outputs": [],
      "source": [
        "# Your answer here\n",
        "import torch\n",
        "import torch_scatter\n",
        "from torch_geometric.nn import GraphConv\n",
        "\n",
        "class GraphClassifier(torch.nn.Module):\n",
        "  def __init__(self, num_features, hidden_dim, num_classes):\n",
        "    super(GraphClassifier, self).__init__()\n",
        "    \n",
        "    self.gcn = GCN(num_features, hidden_dim, hidden_dim)\n",
        "    self.linear = torch.nn.Linear(hidden_dim, num_classes)\n",
        "    \n",
        "  def forward(self, x, edge_index, batch_indices):\n",
        "    node_embeddings = self.gcn(x, edge_index)\n",
        "    node_embeddings = torch.relu(node_embeddings)\n",
        "    pooled_embeddings = torch_scatter.scatter(node_embeddings, batch_indices, dim = 0, reduce = 'max')\n",
        "    logits = self.linear(pooled_embeddings)\n",
        "    return(logits.squeeze(1))"
      ]
    },
    {
      "cell_type": "code",
      "source": [
        "# Number of input features for Cora dataset\n",
        "number_of_node = n_p\n",
        "\n",
        "in_features = c_p\n",
        "\n",
        "# Number of output features\n",
        "out_features = d_p #num_classes\n",
        "\n",
        "# Create GCN\n",
        "gc = GraphClassifier(in_features, 32, out_features)#32\n",
        "\n",
        "# Do a forward pass\n",
        "output = gc(train_features, train_a_norm, train_batch_idx)\n",
        "\n",
        "# Print shape of output tensor\n",
        "print(output.shape)"
      ],
      "metadata": {
        "id": "iheHfcMRd1t9",
        "colab": {
          "base_uri": "https://localhost:8080/"
        },
        "outputId": "adb352b5-1e44-43a4-9828-817f90dbee86"
      },
      "execution_count": 18,
      "outputs": [
        {
          "output_type": "stream",
          "name": "stdout",
          "text": [
            "torch.Size([1113])\n"
          ]
        }
      ]
    },
    {
      "cell_type": "markdown",
      "metadata": {
        "id": "h0QHnn6dV87J"
      },
      "source": []
    },
    {
      "cell_type": "markdown",
      "metadata": {
        "id": "C1PHy-_vTjgh"
      },
      "source": [
        "#### Question 16 (1.5 pt)\n",
        "\n",
        "Implement a training loop for the graph classifier. Use the data from Question 14 to train and evaluate the model.\n",
        "\n",
        "We encourage you to use a GPU in this section for faster training. Note that if you change the runtime at this point, you must re-execute several of the cells above, including the ones that install PyG.\n",
        "\n",
        "- Instantiate a classifier with 32 as the hidden dimension\n",
        "- Use Adam with a learning rate of 1e-3.\n",
        "- Use `torch.nn.BCEWithLogitsLoss` as the loss function.\n",
        "- Train for 5,000 epochs. Once training is done, plot the loss curve and the accuracy in the validation set. Then report the accuracy in the test set.\n",
        "\n",
        "**Note:** the logits from the output of the classifier come from a linear layer. To compute actual predictions for the calculation of the accuracy, pass the logits through `torch.sigmoid()`, and set the predicted values to 1 whenever they are greater than 0.5, and to 0 otherwise.\n",
        "\n",
        "You should get an accuracy equal to or higher than 70% in the validation and test sets. Can you beat the [state-of-the-art](https://paperswithcode.com/sota/graph-classification-on-proteins)? Feel free to modify your architecture and experiment with it.\n",
        "\n",
        "Discuss what you observe during training and your results."
      ]
    },
    {
      "cell_type": "code",
      "execution_count": 19,
      "metadata": {
        "id": "9DbGAs8W2Xja"
      },
      "outputs": [],
      "source": [
        "# If your runtime is GPU-enabled, use .to(device) to move the model\n",
        "# and all the relevant tensors to the GPU. You have to move tensors back to CPU\n",
        "# when computing metrics like accuracy, using .cpu().\n",
        "device = torch.device('cuda') if torch.cuda.is_available() else 'cpu'\n",
        "# gc = GraphClassifier(in_features, 32, out_features).to(device)\n",
        "# Your answer here\n"
      ]
    },
    {
      "cell_type": "code",
      "source": [
        "def accuracy(logits, labels):\n",
        "    preds = (torch.sigmoid(logits) > 0.5).float()\n",
        "    return (preds == labels).float().mean().item()"
      ],
      "metadata": {
        "id": "Yxx_xeml3tQ6"
      },
      "execution_count": 20,
      "outputs": []
    },
    {
      "cell_type": "code",
      "source": [
        "import torch.optim as optim\n",
        "import torch.nn \n",
        "\n",
        "loss_fn = torch.nn.BCEWithLogitsLoss()\n",
        "optimizer = optim.Adam(gc.parameters(), lr=0.0004)\n",
        "\n",
        "num_epochs = 5000\n",
        "train_losses = []\n",
        "train_accuracies = []\n",
        "val_losses = []\n",
        "val_accuracies = []\n",
        "\n",
        "for epoch in range(num_epochs):\n",
        "  # Training\n",
        "  gc.train()\n",
        "  optimizer.zero_grad()\n",
        "  logits = gc(train_features, train_a_norm, train_batch_idx)\n",
        "  loss = loss_fn(logits, train_labels)\n",
        "  loss.backward()\n",
        "  optimizer.step()\n",
        "  train_losses.append(loss.item())\n",
        "  train_acc = accuracy(logits, train_labels)\n",
        "  train_accuracies.append(train_acc)\n",
        "\n",
        "  \n",
        "  # Validation\n",
        "  gc.eval()\n",
        "  with torch.no_grad():\n",
        "    val_logits = gc(valid_features, valid_a_norm, valid_batch_idx)\n",
        "    val_loss = loss_fn(val_logits, valid_labels)\n",
        "    val_losses.append(val_loss.item())\n",
        "    val_acc = accuracy(val_logits, valid_labels)\n",
        "    val_accuracies.append(val_acc)\n",
        "\n",
        "  if((epoch+1) % 500 == 0):\n",
        "    print ('Epoch {}, Train_Loss: {:.4f}, Train_Accuracy: {:.4f}, Val_Loss: {:.4f}, Val_Accuracy: {:.4f}, '.format(epoch+1, loss.item(), train_acc, val_loss.item(), val_acc))"
      ],
      "metadata": {
        "colab": {
          "base_uri": "https://localhost:8080/"
        },
        "id": "rRwVx7LvvmSA",
        "outputId": "db0d2729-9163-42b0-edff-bbd35ced70db"
      },
      "execution_count": 21,
      "outputs": [
        {
          "output_type": "stream",
          "name": "stdout",
          "text": [
            "Epoch 500, Train_Loss: 0.6365, Train_Accuracy: 0.6748, Val_Loss: 0.6363, Val_Accuracy: 0.6739, \n",
            "Epoch 1000, Train_Loss: 0.5523, Train_Accuracy: 0.7350, Val_Loss: 0.5521, Val_Accuracy: 0.7350, \n",
            "Epoch 1500, Train_Loss: 0.4962, Train_Accuracy: 0.7682, Val_Loss: 0.4961, Val_Accuracy: 0.7682, \n",
            "Epoch 2000, Train_Loss: 0.4791, Train_Accuracy: 0.7790, Val_Loss: 0.4791, Val_Accuracy: 0.7790, \n",
            "Epoch 2500, Train_Loss: 0.4674, Train_Accuracy: 0.7862, Val_Loss: 0.4674, Val_Accuracy: 0.7862, \n",
            "Epoch 3000, Train_Loss: 0.4567, Train_Accuracy: 0.7951, Val_Loss: 0.4567, Val_Accuracy: 0.7942, \n",
            "Epoch 3500, Train_Loss: 0.4488, Train_Accuracy: 0.8041, Val_Loss: 0.4488, Val_Accuracy: 0.8041, \n",
            "Epoch 4000, Train_Loss: 0.4402, Train_Accuracy: 0.8113, Val_Loss: 0.4402, Val_Accuracy: 0.8113, \n",
            "Epoch 4500, Train_Loss: 0.4321, Train_Accuracy: 0.8131, Val_Loss: 0.4321, Val_Accuracy: 0.8131, \n",
            "Epoch 5000, Train_Loss: 0.4260, Train_Accuracy: 0.8113, Val_Loss: 0.4260, Val_Accuracy: 0.8104, \n"
          ]
        }
      ]
    },
    {
      "cell_type": "code",
      "source": [
        "import matplotlib.pyplot as plt\n",
        "\n",
        "# Plot the training loss and validation accuracy\n",
        "plt.plot(train_losses, label='train loss')\n",
        "plt.plot(val_accuracies, label='val Accuracy')\n",
        "plt.legend()\n",
        "plt.show()"
      ],
      "metadata": {
        "colab": {
          "base_uri": "https://localhost:8080/",
          "height": 265
        },
        "id": "hRaBIur6ybd2",
        "outputId": "94416d37-44bd-4f87-f9e4-dec9df5123b7"
      },
      "execution_count": 30,
      "outputs": [
        {
          "output_type": "display_data",
          "data": {
            "text/plain": [
              "<Figure size 432x288 with 1 Axes>"
            ],
            "image/png": "[encoded data removed]"
          },
          "metadata": {
            "needs_background": "light"
          }
        }
      ]
    },
    {
      "cell_type": "code",
      "source": [
        "# Test\n",
        "gc.eval()\n",
        "with torch.no_grad():\n",
        "    test_logits = gc(test_features, test_a_norm, test_batch_idx)\n",
        "    test_accuracy = accuracy(test_logits, test_labels)\n",
        "\n",
        "test_accuracy"
      ],
      "metadata": {
        "colab": {
          "base_uri": "https://localhost:8080/"
        },
        "id": "h2X_9gnZn0Tl",
        "outputId": "00256596-1104-43a0-cdf7-4159e044d6c3"
      },
      "execution_count": 25,
      "outputs": [
        {
          "output_type": "execute_result",
          "data": {
            "text/plain": [
              "0.8104223012924194"
            ]
          },
          "metadata": {},
          "execution_count": 25
        }
      ]
    },
    {
      "cell_type": "markdown",
      "source": [
        "# Final Discussion:\n",
        "\n",
        "It seems that the model's performance is improving over time, as the loss and accuracy values are generally decreasing \n",
        "as the number of training epochs increases. It indicates that the model is learning and generalizing well. \n",
        "\n",
        "The model's accuracy on the validation and test sets was 81% when using a learning rate of 0.0004, \n",
        "which did not surpass the baseline accuracy. However, when the learning rate was set to 0.003, the model's accuracy was only 70%. \n",
        "Decreasing the learning rate resulted in an increase in accuracy.\n"
      ],
      "metadata": {
        "id": "r34x4s7R3cQn"
      }
    },
    {
      "cell_type": "markdown",
      "metadata": {
        "id": "MvmAfDNMcnKD"
      },
      "source": [
        "## The end\n",
        "\n",
        "If you have made it all the way here successfully, congratulations! 🎉 \n",
        "\n",
        "You have implemented your own GCN and tested it on a node classification task, and a more challenging classification task over multiple graphs.\n",
        "\n",
        "We hope you can use this knowledge to apply GCNs not only to the tasks described here, but other applications where data can be modeled as a graph.\n",
        "\n",
        "If you are interested in applying graph neural networks to larger graphs, or try newer architectures, you can dive deeper into [PyTorch Geometric](https://pytorch-geometric.readthedocs.io/en/latest/), a library with fast implementations for a wide range of architectures. It also comes with custom code that takes care of aspects that you dealt with manually for this assignment, like a more efficient implementation of the adjacency matrix multiplication via message-passing methods, and Data Loaders that relieve you from having to build block diagonal sparse matrices.\n",
        "\n",
        "You can also check the [Deep Graph Library](https://docs.dgl.ai/) another powerful library for deep learning on graphs which also integrates with other backends like TensorFlow."
      ]
    },
    {
      "cell_type": "markdown",
      "metadata": {
        "id": "l7QhyAMms8-L"
      },
      "source": [
        "# Grading (10pt)"
      ]
    },
    {
      "cell_type": "markdown",
      "metadata": {
        "id": "juIdxXhos-mV"
      },
      "source": [
        "- Question 1: 0.25pt \n",
        "- Question 2: 0.25pt \n",
        "- Question 3: 0.5pt \n",
        "- Question 4: 0.25pt \n",
        "- Question 5: 0.5pt \n",
        "- Question 6: 0.5pt \n",
        "- Question 7: 0.5pt \n",
        "- Question 8: 0.5pt \n",
        "- Question 9: 1.5pt \n",
        "- Question 10: 0.5pt \n",
        "- Question 11: 0.25pt \n",
        "- Question 12: 0.5pt \n",
        "- Question 13: 0.5pt \n",
        "- Question 14: 1pt\n",
        "- Question 15: 1pt\n",
        "- Question 16: 1.5pt"
      ]
    }
  ],
  "metadata": {
    "accelerator": "GPU",
    "colab": {
      "provenance": [],
      "toc_visible": true,
      "collapsed_sections": [
        "tsdc7fDp40rQ",
        "RvsuVNczG6pP",
        "MvmAfDNMcnKD"
      ],
      "include_colab_link": true
    },
    "kernelspec": {
      "display_name": "Python 3 (ipykernel)",
      "language": "python",
      "name": "python3"
    },
    "language_info": {
      "codemirror_mode": {
        "name": "ipython",
        "version": 3
      },
      "file_extension": ".py",
      "mimetype": "text/x-python",
      "name": "python",
      "nbconvert_exporter": "python",
      "pygments_lexer": "ipython3",
      "version": "3.7.4"
    }
  },
  "nbformat": 4,
  "nbformat_minor": 0
}